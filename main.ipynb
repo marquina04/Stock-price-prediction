{
 "cells": [
  {
   "cell_type": "code",
   "execution_count": 1,
   "metadata": {},
   "outputs": [
    {
     "name": "stdout",
     "output_type": "stream",
     "text": [
      "Requirement already satisfied: pandas_datareader in c:\\users\\ankit nag\\appdata\\local\\programs\\python\\python310\\lib\\site-packages (0.10.0)\n",
      "Requirement already satisfied: requests>=2.19.0 in c:\\users\\ankit nag\\appdata\\local\\programs\\python\\python310\\lib\\site-packages (from pandas_datareader) (2.27.1)\n",
      "Requirement already satisfied: lxml in c:\\users\\ankit nag\\appdata\\local\\programs\\python\\python310\\lib\\site-packages (from pandas_datareader) (4.9.1)\n",
      "Requirement already satisfied: pandas>=0.23 in c:\\users\\ankit nag\\appdata\\local\\programs\\python\\python310\\lib\\site-packages (from pandas_datareader) (1.4.2)\n",
      "Requirement already satisfied: numpy>=1.21.0 in c:\\users\\ankit nag\\appdata\\local\\programs\\python\\python310\\lib\\site-packages (from pandas>=0.23->pandas_datareader) (1.22.3)\n",
      "Requirement already satisfied: pytz>=2020.1 in c:\\users\\ankit nag\\appdata\\local\\programs\\python\\python310\\lib\\site-packages (from pandas>=0.23->pandas_datareader) (2022.1)\n",
      "Requirement already satisfied: python-dateutil>=2.8.1 in c:\\users\\ankit nag\\appdata\\local\\programs\\python\\python310\\lib\\site-packages (from pandas>=0.23->pandas_datareader) (2.8.2)\n",
      "Requirement already satisfied: certifi>=2017.4.17 in c:\\users\\ankit nag\\appdata\\local\\programs\\python\\python310\\lib\\site-packages (from requests>=2.19.0->pandas_datareader) (2021.10.8)\n",
      "Requirement already satisfied: charset-normalizer~=2.0.0 in c:\\users\\ankit nag\\appdata\\local\\programs\\python\\python310\\lib\\site-packages (from requests>=2.19.0->pandas_datareader) (2.0.12)\n",
      "Requirement already satisfied: idna<4,>=2.5 in c:\\users\\ankit nag\\appdata\\local\\programs\\python\\python310\\lib\\site-packages (from requests>=2.19.0->pandas_datareader) (3.3)\n",
      "Requirement already satisfied: urllib3<1.27,>=1.21.1 in c:\\users\\ankit nag\\appdata\\local\\programs\\python\\python310\\lib\\site-packages (from requests>=2.19.0->pandas_datareader) (1.26.9)\n",
      "Requirement already satisfied: six>=1.5 in c:\\users\\ankit nag\\appdata\\local\\programs\\python\\python310\\lib\\site-packages (from python-dateutil>=2.8.1->pandas>=0.23->pandas_datareader) (1.16.0)\n",
      "\n",
      "[notice] A new release of pip available: 22.1.2 -> 22.2.1\n",
      "[notice] To update, run: python.exe -m pip install --upgrade pip\n",
      "Note: you may need to restart the kernel to use updated packages.\n"
     ]
    }
   ],
   "source": [
    "pip install pandas_datareader"
   ]
  },
  {
   "cell_type": "code",
   "execution_count": 2,
   "metadata": {},
   "outputs": [],
   "source": [
    "import numpy as np\n",
    "import pandas as pd\n",
    "import matplotlib.pyplot as plt\n",
    "import pandas_datareader as data"
   ]
  },
  {
   "cell_type": "code",
   "execution_count": 3,
   "metadata": {},
   "outputs": [
    {
     "data": {
      "text/html": [
       "<div>\n",
       "<style scoped>\n",
       "    .dataframe tbody tr th:only-of-type {\n",
       "        vertical-align: middle;\n",
       "    }\n",
       "\n",
       "    .dataframe tbody tr th {\n",
       "        vertical-align: top;\n",
       "    }\n",
       "\n",
       "    .dataframe thead th {\n",
       "        text-align: right;\n",
       "    }\n",
       "</style>\n",
       "<table border=\"1\" class=\"dataframe\">\n",
       "  <thead>\n",
       "    <tr style=\"text-align: right;\">\n",
       "      <th></th>\n",
       "      <th>High</th>\n",
       "      <th>Low</th>\n",
       "      <th>Open</th>\n",
       "      <th>Close</th>\n",
       "      <th>Volume</th>\n",
       "      <th>Adj Close</th>\n",
       "    </tr>\n",
       "    <tr>\n",
       "      <th>Date</th>\n",
       "      <th></th>\n",
       "      <th></th>\n",
       "      <th></th>\n",
       "      <th></th>\n",
       "      <th></th>\n",
       "      <th></th>\n",
       "    </tr>\n",
       "  </thead>\n",
       "  <tbody>\n",
       "    <tr>\n",
       "      <th>2009-12-31</th>\n",
       "      <td>7.619643</td>\n",
       "      <td>7.520000</td>\n",
       "      <td>7.611786</td>\n",
       "      <td>7.526071</td>\n",
       "      <td>352410800.0</td>\n",
       "      <td>6.434926</td>\n",
       "    </tr>\n",
       "    <tr>\n",
       "      <th>2010-01-04</th>\n",
       "      <td>7.660714</td>\n",
       "      <td>7.585000</td>\n",
       "      <td>7.622500</td>\n",
       "      <td>7.643214</td>\n",
       "      <td>493729600.0</td>\n",
       "      <td>6.535086</td>\n",
       "    </tr>\n",
       "    <tr>\n",
       "      <th>2010-01-05</th>\n",
       "      <td>7.699643</td>\n",
       "      <td>7.616071</td>\n",
       "      <td>7.664286</td>\n",
       "      <td>7.656429</td>\n",
       "      <td>601904800.0</td>\n",
       "      <td>6.546383</td>\n",
       "    </tr>\n",
       "    <tr>\n",
       "      <th>2010-01-06</th>\n",
       "      <td>7.686786</td>\n",
       "      <td>7.526786</td>\n",
       "      <td>7.656429</td>\n",
       "      <td>7.534643</td>\n",
       "      <td>552160000.0</td>\n",
       "      <td>6.442255</td>\n",
       "    </tr>\n",
       "    <tr>\n",
       "      <th>2010-01-07</th>\n",
       "      <td>7.571429</td>\n",
       "      <td>7.466071</td>\n",
       "      <td>7.562500</td>\n",
       "      <td>7.520714</td>\n",
       "      <td>477131200.0</td>\n",
       "      <td>6.430343</td>\n",
       "    </tr>\n",
       "  </tbody>\n",
       "</table>\n",
       "</div>"
      ],
      "text/plain": [
       "                High       Low      Open     Close       Volume  Adj Close\n",
       "Date                                                                      \n",
       "2009-12-31  7.619643  7.520000  7.611786  7.526071  352410800.0   6.434926\n",
       "2010-01-04  7.660714  7.585000  7.622500  7.643214  493729600.0   6.535086\n",
       "2010-01-05  7.699643  7.616071  7.664286  7.656429  601904800.0   6.546383\n",
       "2010-01-06  7.686786  7.526786  7.656429  7.534643  552160000.0   6.442255\n",
       "2010-01-07  7.571429  7.466071  7.562500  7.520714  477131200.0   6.430343"
      ]
     },
     "execution_count": 3,
     "metadata": {},
     "output_type": "execute_result"
    }
   ],
   "source": [
    "start= '2010-01-01'\n",
    "end= '2022-06-30'\n",
    "\n",
    "df=data.DataReader('AAPL', 'yahoo', start, end)\n",
    "df.head()"
   ]
  },
  {
   "cell_type": "code",
   "execution_count": 4,
   "metadata": {},
   "outputs": [],
   "source": [
    "df=df.reset_index()\n",
    "df=df.drop(['Date','Adj Close'], axis=1)"
   ]
  },
  {
   "cell_type": "code",
   "execution_count": 5,
   "metadata": {},
   "outputs": [
    {
     "data": {
      "text/plain": [
       "[<matplotlib.lines.Line2D at 0x169a8091de0>]"
      ]
     },
     "execution_count": 5,
     "metadata": {},
     "output_type": "execute_result"
    },
    {
     "data": {
      "image/png": "[encoded data removed]",
      "text/plain": [
       "<Figure size 432x288 with 1 Axes>"
      ]
     },
     "metadata": {
      "needs_background": "light"
     },
     "output_type": "display_data"
    }
   ],
   "source": [
    "plt.plot(df.Close)"
   ]
  },
  {
   "cell_type": "code",
   "execution_count": 6,
   "metadata": {},
   "outputs": [],
   "source": [
    "ma100= df.Close.rolling(100).mean()"
   ]
  },
  {
   "cell_type": "code",
   "execution_count": 7,
   "metadata": {},
   "outputs": [
    {
     "data": {
      "text/plain": [
       "[<matplotlib.lines.Line2D at 0x169a818bfd0>]"
      ]
     },
     "execution_count": 7,
     "metadata": {},
     "output_type": "execute_result"
    },
    {
     "data": {
      "image/png": "[encoded data removed]",
      "text/plain": [
       "<Figure size 432x288 with 1 Axes>"
      ]
     },
     "metadata": {
      "needs_background": "light"
     },
     "output_type": "display_data"
    }
   ],
   "source": [
    "plt.Figure(figsize=(12,6))\n",
    "plt.plot(df.Close)\n",
    "plt.plot(ma100)"
   ]
  },
  {
   "cell_type": "code",
   "execution_count": 8,
   "metadata": {},
   "outputs": [],
   "source": [
    "ma200= df.Close.rolling(200).mean()"
   ]
  },
  {
   "cell_type": "code",
   "execution_count": 9,
   "metadata": {},
   "outputs": [
    {
     "data": {
      "text/plain": [
       "[<matplotlib.lines.Line2D at 0x169a6c40ee0>]"
      ]
     },
     "execution_count": 9,
     "metadata": {},
     "output_type": "execute_result"
    },
    {
     "data": {
      "image/png": "[encoded data removed]",
      "text/plain": [
       "<Figure size 432x288 with 1 Axes>"
      ]
     },
     "metadata": {
      "needs_background": "light"
     },
     "output_type": "display_data"
    }
   ],
   "source": [
    "plt.Figure(figsize=(12,6))\n",
    "plt.plot(df.Close)\n",
    "plt.plot(ma100,'r')\n",
    "plt.plot(ma200, 'g')"
   ]
  },
  {
   "cell_type": "code",
   "execution_count": 10,
   "metadata": {},
   "outputs": [
    {
     "data": {
      "text/plain": [
       "(3146, 5)"
      ]
     },
     "execution_count": 10,
     "metadata": {},
     "output_type": "execute_result"
    }
   ],
   "source": [
    "df.shape"
   ]
  },
  {
   "cell_type": "code",
   "execution_count": 11,
   "metadata": {},
   "outputs": [],
   "source": [
    "data_training = pd.DataFrame(df['Close'][0:int(len(df)*0.7)])\n",
    "data_testing = pd.DataFrame(df['Close'][int(len(df)*0.7): int(len(df))])"
   ]
  },
  {
   "cell_type": "code",
   "execution_count": 12,
   "metadata": {},
   "outputs": [],
   "source": [
    "from sklearn.preprocessing import MinMaxScaler\n",
    "scalar= MinMaxScaler(feature_range=(0,1))"
   ]
  },
  {
   "cell_type": "code",
   "execution_count": 13,
   "metadata": {},
   "outputs": [
    {
     "data": {
      "text/plain": [
       "array([[0.01328146],\n",
       "       [0.01561354],\n",
       "       [0.01587662],\n",
       "       ...,\n",
       "       [0.96048261],\n",
       "       [0.98302841],\n",
       "       [0.98696029]])"
      ]
     },
     "execution_count": 13,
     "metadata": {},
     "output_type": "execute_result"
    }
   ],
   "source": [
    "data_training_array = scalar.fit_transform(data_training)\n",
    "data_training_array"
   ]
  },
  {
   "cell_type": "code",
   "execution_count": 14,
   "metadata": {},
   "outputs": [],
   "source": [
    "X_train=[]\n",
    "Y_train=[]\n",
    "for i in range(100,data_training_array.shape[0]):\n",
    "    X_train.append(data_training_array[i-100: i])\n",
    "    Y_train.append(data_training_array[i, 0])\n",
    "X_train,Y_train=np.array(X_train),np.array(Y_train)"
   ]
  },
  {
   "cell_type": "code",
   "execution_count": 15,
   "metadata": {},
   "outputs": [],
   "source": [
    "from keras.layers import Dense, Dropout, LSTM\n",
    "from keras.models import Sequential"
   ]
  },
  {
   "cell_type": "code",
   "execution_count": 16,
   "metadata": {},
   "outputs": [],
   "source": [
    "model= Sequential()\n",
    "model.add(LSTM(units=50, activation='relu', return_sequences=True,input_shape=(X_train.shape[1],1)))\n",
    "model.add(Dropout(0.2))\n",
    "\n",
    "model.add(LSTM(units=60, activation='relu', return_sequences=True))\n",
    "model.add(Dropout(0.3))\n",
    "model.add(LSTM(units=80, activation='relu', return_sequences=True))\n",
    "model.add(Dropout(0.4))\n",
    "model.add(LSTM(units=120, activation='relu'))\n",
    "model.add(Dropout(0.5))\n",
    "\n",
    "model.add(Dense(units=1))"
   ]
  },
  {
   "cell_type": "code",
   "execution_count": 17,
   "metadata": {},
   "outputs": [
    {
     "name": "stdout",
     "output_type": "stream",
     "text": [
      "Model: \"sequential\"\n",
      "_________________________________________________________________\n",
      " Layer (type)                Output Shape              Param #   \n",
      "=================================================================\n",
      " lstm (LSTM)                 (None, 100, 50)           10400     \n",
      "                                                                 \n",
      " dropout (Dropout)           (None, 100, 50)           0         \n",
      "                                                                 \n",
      " lstm_1 (LSTM)               (None, 100, 60)           26640     \n",
      "                                                                 \n",
      " dropout_1 (Dropout)         (None, 100, 60)           0         \n",
      "                                                                 \n",
      " lstm_2 (LSTM)               (None, 100, 80)           45120     \n",
      "                                                                 \n",
      " dropout_2 (Dropout)         (None, 100, 80)           0         \n",
      "                                                                 \n",
      " lstm_3 (LSTM)               (None, 120)               96480     \n",
      "                                                                 \n",
      " dropout_3 (Dropout)         (None, 120)               0         \n",
      "                                                                 \n",
      " dense (Dense)               (None, 1)                 121       \n",
      "                                                                 \n",
      "=================================================================\n",
      "Total params: 178,761\n",
      "Trainable params: 178,761\n",
      "Non-trainable params: 0\n",
      "_________________________________________________________________\n"
     ]
    }
   ],
   "source": [
    "model.summary()"
   ]
  },
  {
   "cell_type": "code",
   "execution_count": 18,
   "metadata": {},
   "outputs": [
    {
     "name": "stdout",
     "output_type": "stream",
     "text": [
      "Epoch 1/50\n",
      "66/66 [==============================] - 40s 395ms/step - loss: 0.0271\n",
      "Epoch 2/50\n",
      "66/66 [==============================] - 24s 370ms/step - loss: 0.0060\n",
      "Epoch 3/50\n",
      "66/66 [==============================] - 14s 212ms/step - loss: 0.0047\n",
      "Epoch 4/50\n",
      "66/66 [==============================] - 9s 141ms/step - loss: 0.0045\n",
      "Epoch 5/50\n",
      "66/66 [==============================] - 10s 149ms/step - loss: 0.0042\n",
      "Epoch 6/50\n",
      "66/66 [==============================] - 9s 134ms/step - loss: 0.0048\n",
      "Epoch 7/50\n",
      "66/66 [==============================] - 9s 133ms/step - loss: 0.0041\n",
      "Epoch 8/50\n",
      "66/66 [==============================] - 10s 149ms/step - loss: 0.0037\n",
      "Epoch 9/50\n",
      "66/66 [==============================] - 11s 172ms/step - loss: 0.0040\n",
      "Epoch 10/50\n",
      "66/66 [==============================] - 9s 141ms/step - loss: 0.0037\n",
      "Epoch 11/50\n",
      "66/66 [==============================] - 9s 131ms/step - loss: 0.0036\n",
      "Epoch 12/50\n",
      "66/66 [==============================] - 9s 131ms/step - loss: 0.0036\n",
      "Epoch 13/50\n",
      "66/66 [==============================] - 9s 139ms/step - loss: 0.0033\n",
      "Epoch 14/50\n",
      "66/66 [==============================] - 10s 144ms/step - loss: 0.0032\n",
      "Epoch 15/50\n",
      "66/66 [==============================] - 10s 148ms/step - loss: 0.0029\n",
      "Epoch 16/50\n",
      "66/66 [==============================] - 9s 139ms/step - loss: 0.0031\n",
      "Epoch 17/50\n",
      "66/66 [==============================] - 11s 160ms/step - loss: 0.0030\n",
      "Epoch 18/50\n",
      "66/66 [==============================] - 10s 145ms/step - loss: 0.0027\n",
      "Epoch 19/50\n",
      "66/66 [==============================] - 9s 141ms/step - loss: 0.0026\n",
      "Epoch 20/50\n",
      "66/66 [==============================] - 10s 151ms/step - loss: 0.0025\n",
      "Epoch 21/50\n",
      "66/66 [==============================] - 10s 150ms/step - loss: 0.0023\n",
      "Epoch 22/50\n",
      "66/66 [==============================] - 10s 148ms/step - loss: 0.0023\n",
      "Epoch 23/50\n",
      "66/66 [==============================] - 10s 156ms/step - loss: 0.0023\n",
      "Epoch 24/50\n",
      "66/66 [==============================] - 9s 143ms/step - loss: 0.0024\n",
      "Epoch 25/50\n",
      "66/66 [==============================] - 10s 145ms/step - loss: 0.0022\n",
      "Epoch 26/50\n",
      "66/66 [==============================] - 10s 150ms/step - loss: 0.0020\n",
      "Epoch 27/50\n",
      "66/66 [==============================] - 10s 150ms/step - loss: 0.0021\n",
      "Epoch 28/50\n",
      "66/66 [==============================] - 11s 160ms/step - loss: 0.0023\n",
      "Epoch 29/50\n",
      "66/66 [==============================] - 10s 146ms/step - loss: 0.0021\n",
      "Epoch 30/50\n",
      "66/66 [==============================] - 9s 141ms/step - loss: 0.0024\n",
      "Epoch 31/50\n",
      "66/66 [==============================] - 10s 147ms/step - loss: 0.0020\n",
      "Epoch 32/50\n",
      "66/66 [==============================] - 9s 141ms/step - loss: 0.0023\n",
      "Epoch 33/50\n",
      "66/66 [==============================] - 10s 147ms/step - loss: 0.0018\n",
      "Epoch 34/50\n",
      "66/66 [==============================] - 10s 149ms/step - loss: 0.0018\n",
      "Epoch 35/50\n",
      "66/66 [==============================] - 9s 138ms/step - loss: 0.0016\n",
      "Epoch 36/50\n",
      "66/66 [==============================] - 11s 172ms/step - loss: 0.0019\n",
      "Epoch 37/50\n",
      "66/66 [==============================] - 10s 153ms/step - loss: 0.0019\n",
      "Epoch 38/50\n",
      "66/66 [==============================] - 10s 150ms/step - loss: 0.0019\n",
      "Epoch 39/50\n",
      "66/66 [==============================] - 9s 138ms/step - loss: 0.0019\n",
      "Epoch 40/50\n",
      "66/66 [==============================] - 9s 138ms/step - loss: 0.0017\n",
      "Epoch 41/50\n",
      "66/66 [==============================] - 10s 149ms/step - loss: 0.0018\n",
      "Epoch 42/50\n",
      "66/66 [==============================] - 10s 147ms/step - loss: 0.0016\n",
      "Epoch 43/50\n",
      "66/66 [==============================] - 10s 150ms/step - loss: 0.0018\n",
      "Epoch 44/50\n",
      "66/66 [==============================] - 9s 142ms/step - loss: 0.0019\n",
      "Epoch 45/50\n",
      "66/66 [==============================] - 10s 146ms/step - loss: 0.0019\n",
      "Epoch 46/50\n",
      "66/66 [==============================] - 10s 145ms/step - loss: 0.0017\n",
      "Epoch 47/50\n",
      "66/66 [==============================] - 9s 143ms/step - loss: 0.0016\n",
      "Epoch 48/50\n",
      "66/66 [==============================] - 10s 144ms/step - loss: 0.0017\n",
      "Epoch 49/50\n",
      "66/66 [==============================] - 9s 140ms/step - loss: 0.0019\n",
      "Epoch 50/50\n",
      "66/66 [==============================] - 9s 141ms/step - loss: 0.0016\n"
     ]
    },
    {
     "data": {
      "text/plain": [
       "<keras.callbacks.History at 0x169c6f60580>"
      ]
     },
     "execution_count": 18,
     "metadata": {},
     "output_type": "execute_result"
    }
   ],
   "source": [
    "model.compile(optimizer='adam', loss='mean_squared_error')\n",
    "model.fit(X_train,Y_train,epochs=50)"
   ]
  },
  {
   "cell_type": "code",
   "execution_count": 19,
   "metadata": {},
   "outputs": [],
   "source": [
    "model.save('model.h5')"
   ]
  },
  {
   "cell_type": "code",
   "execution_count": 20,
   "metadata": {},
   "outputs": [
    {
     "data": {
      "text/html": [
       "<div>\n",
       "<style scoped>\n",
       "    .dataframe tbody tr th:only-of-type {\n",
       "        vertical-align: middle;\n",
       "    }\n",
       "\n",
       "    .dataframe tbody tr th {\n",
       "        vertical-align: top;\n",
       "    }\n",
       "\n",
       "    .dataframe thead th {\n",
       "        text-align: right;\n",
       "    }\n",
       "</style>\n",
       "<table border=\"1\" class=\"dataframe\">\n",
       "  <thead>\n",
       "    <tr style=\"text-align: right;\">\n",
       "      <th></th>\n",
       "      <th>Close</th>\n",
       "    </tr>\n",
       "  </thead>\n",
       "  <tbody>\n",
       "    <tr>\n",
       "      <th>2202</th>\n",
       "      <td>56.814999</td>\n",
       "    </tr>\n",
       "    <tr>\n",
       "      <th>2203</th>\n",
       "      <td>57.320000</td>\n",
       "    </tr>\n",
       "    <tr>\n",
       "      <th>2204</th>\n",
       "      <td>58.017502</td>\n",
       "    </tr>\n",
       "    <tr>\n",
       "      <th>2205</th>\n",
       "      <td>56.997501</td>\n",
       "    </tr>\n",
       "    <tr>\n",
       "      <th>2206</th>\n",
       "      <td>56.072498</td>\n",
       "    </tr>\n",
       "  </tbody>\n",
       "</table>\n",
       "</div>"
      ],
      "text/plain": [
       "          Close\n",
       "2202  56.814999\n",
       "2203  57.320000\n",
       "2204  58.017502\n",
       "2205  56.997501\n",
       "2206  56.072498"
      ]
     },
     "execution_count": 20,
     "metadata": {},
     "output_type": "execute_result"
    }
   ],
   "source": [
    "data_testing.head()"
   ]
  },
  {
   "cell_type": "code",
   "execution_count": 21,
   "metadata": {},
   "outputs": [],
   "source": [
    "past_100_days= data_training.tail(100)"
   ]
  },
  {
   "cell_type": "code",
   "execution_count": 22,
   "metadata": {},
   "outputs": [
    {
     "name": "stderr",
     "output_type": "stream",
     "text": [
      "C:\\Users\\Ankit Nag\\AppData\\Local\\Temp\\ipykernel_4276\\531349220.py:1: FutureWarning: The frame.append method is deprecated and will be removed from pandas in a future version. Use pandas.concat instead.\n",
      "  final_df = past_100_days.append(data_testing, ignore_index=True)\n"
     ]
    }
   ],
   "source": [
    "final_df = past_100_days.append(data_testing, ignore_index=True)"
   ]
  },
  {
   "cell_type": "code",
   "execution_count": 23,
   "metadata": {},
   "outputs": [],
   "source": [
    "input_data=scalar.fit_transform(final_df)"
   ]
  },
  {
   "cell_type": "code",
   "execution_count": 32,
   "metadata": {},
   "outputs": [],
   "source": [
    "X_test = []\n",
    "Y_test=[]\n",
    "for i in range(100, input_data.shape[0]):\n",
    "    X_test.append(input_data[i-100:i])\n",
    "    Y_test.append(input_data[i,0])"
   ]
  },
  {
   "cell_type": "code",
   "execution_count": 33,
   "metadata": {},
   "outputs": [
    {
     "name": "stdout",
     "output_type": "stream",
     "text": [
      "(944, 100, 1)\n",
      "(944,)\n"
     ]
    }
   ],
   "source": [
    "X_test, Y_test = np.array(X_test), np.array(Y_test)\n",
    "print(X_test.shape)\n",
    "print(Y_test.shape)"
   ]
  },
  {
   "cell_type": "code",
   "execution_count": 27,
   "metadata": {},
   "outputs": [
    {
     "name": "stdout",
     "output_type": "stream",
     "text": [
      "30/30 [==============================] - 1s 38ms/step\n"
     ]
    }
   ],
   "source": [
    "Y_pred=model.predict(X_test)"
   ]
  },
  {
   "cell_type": "code",
   "execution_count": 28,
   "metadata": {},
   "outputs": [
    {
     "data": {
      "text/plain": [
       "(944, 1)"
      ]
     },
     "execution_count": 28,
     "metadata": {},
     "output_type": "execute_result"
    }
   ],
   "source": [
    "Y_pred.shape"
   ]
  },
  {
   "cell_type": "code",
   "execution_count": 29,
   "metadata": {},
   "outputs": [
    {
     "data": {
      "text/plain": [
       "array([0.00682769])"
      ]
     },
     "execution_count": 29,
     "metadata": {},
     "output_type": "execute_result"
    }
   ],
   "source": [
    "scalar.scale_"
   ]
  },
  {
   "cell_type": "code",
   "execution_count": 30,
   "metadata": {},
   "outputs": [],
   "source": [
    "scale_factor = 1/0.00682769\n",
    "Y_pred = Y_pred*scale_factor\n",
    "Y_test = Y_test*scale_factor"
   ]
  },
  {
   "cell_type": "code",
   "execution_count": 35,
   "metadata": {},
   "outputs": [
    {
     "data": {
      "text/plain": [
       "array([0.14520781, 0.1486558 , 0.15341813, 0.14645388, 0.14013825,\n",
       "       0.13925067, 0.14454211, 0.12660237, 0.12334215, 0.13641717,\n",
       "       0.1283093 , 0.13648544, 0.13484681, 0.12602203, 0.13163779,\n",
       "       0.13392506, 0.13747546, 0.12443458, 0.13247419, 0.12649996,\n",
       "       0.11956987, 0.1213792 , 0.13086968, 0.13660494, 0.1114449 ,\n",
       "       0.10139113, 0.10511224, 0.115661  , 0.11316891, 0.10630708,\n",
       "       0.08872578, 0.08541435, 0.07614578, 0.08401469, 0.08763335,\n",
       "       0.07454126, 0.05938379, 0.05904241, 0.05137833, 0.05535546,\n",
       "       0.05470684, 0.06614321, 0.06377059, 0.06211488, 0.07276608,\n",
       "       0.0588888 , 0.05552616, 0.04489204, 0.04678673, 0.04513101,\n",
       "       0.04593327, 0.04909106, 0.03975419, 0.03712555, 0.0407613 ,\n",
       "       0.03191943, 0.02498933, 0.0145771 , 0.00792012, 0.02556968,\n",
       "       0.02382861, 0.02396517, 0.02654264, 0.02684987, 0.        ,\n",
       "       0.010361  , 0.00979771, 0.01461125, 0.01898096, 0.01981736,\n",
       "       0.01723989, 0.01333105, 0.01857132, 0.02176325, 0.02333362,\n",
       "       0.02497227, 0.0189639 , 0.02002218, 0.01793974, 0.02657676,\n",
       "       0.02408467, 0.02131943, 0.03936161, 0.04139285, 0.04152941,\n",
       "       0.04960314, 0.05460441, 0.05470684, 0.049074  , 0.04816933,\n",
       "       0.04649653, 0.04898865, 0.04777672, 0.04883503, 0.04818639,\n",
       "       0.04905691, 0.05093454, 0.04927882, 0.05253905, 0.05468976,\n",
       "       0.05486046, 0.05578219, 0.05284628, 0.05595289, 0.05745499,\n",
       "       0.05690876, 0.05518478, 0.05173679, 0.05243663, 0.06266108,\n",
       "       0.06609201, 0.06745755, 0.07090551, 0.07498506, 0.07822822,\n",
       "       0.0756849 , 0.07846719, 0.09029614, 0.08340019, 0.07945721,\n",
       "       0.07612869, 0.07899633, 0.07942306, 0.08152257, 0.08372451,\n",
       "       0.08846975, 0.09073996, 0.09132031, 0.09355637, 0.09884784,\n",
       "       0.09782367, 0.09973542, 0.09688486, 0.09674831, 0.0973628 ,\n",
       "       0.09739694, 0.10401981, 0.10526585, 0.10640949, 0.1114449 ,\n",
       "       0.1108987 , 0.10768968, 0.1060169 , 0.10654605, 0.09982077,\n",
       "       0.11663396, 0.11429546, 0.11873346, 0.11315182, 0.10355893,\n",
       "       0.1036272 , 0.09990612, 0.0938636 , 0.0743023 , 0.07932065,\n",
       "       0.08317828, 0.08174448, 0.079901  , 0.06981308, 0.0758044 ,\n",
       "       0.06928394, 0.06395836, 0.06278058, 0.06151744, 0.06006658,\n",
       "       0.06163694, 0.05612359, 0.05310233, 0.06392421, 0.06887427,\n",
       "       0.07344884, 0.08186395, 0.08601178, 0.08981821, 0.08875993,\n",
       "       0.08869163, 0.08628489, 0.08824784, 0.0960314 , 0.09504138,\n",
       "       0.09775541, 0.09659469, 0.09625331, 0.09111549, 0.09833576,\n",
       "       0.09823335, 0.09512674, 0.10132287, 0.10333702, 0.10620467,\n",
       "       0.10589741, 0.09871128, 0.10079373, 0.10419049, 0.10166425,\n",
       "       0.10430998, 0.10757021, 0.10635828, 0.10439533, 0.10833832,\n",
       "       0.10309806, 0.11100111, 0.11376632, 0.11347614, 0.11065973,\n",
       "       0.11188872, 0.11520012, 0.11366391, 0.12093538, 0.11306647,\n",
       "       0.10553897, 0.08730903, 0.09355637, 0.09703848, 0.10453186,\n",
       "       0.100367  , 0.09949645, 0.11398822, 0.10337117, 0.10164719,\n",
       "       0.10977213, 0.11634379, 0.11636084, 0.12025262, 0.11994539,\n",
       "       0.10318341, 0.10975507, 0.10577794, 0.10811641, 0.11405649,\n",
       "       0.11359564, 0.10840658, 0.11436375, 0.12134505, 0.12131091,\n",
       "       0.12286421, 0.12718272, 0.13894341, 0.13808995, 0.13068192,\n",
       "       0.13264487, 0.13401041, 0.13754375, 0.13445422, 0.12894085,\n",
       "       0.13063071, 0.1288555 , 0.1345737 , 0.13262781, 0.13080141,\n",
       "       0.13959205, 0.14065033, 0.13104038, 0.13421526, 0.14478108,\n",
       "       0.14486643, 0.14032601, 0.14481523, 0.1500384 , 0.16048478,\n",
       "       0.15990441, 0.15896562, 0.15734402, 0.15889733, 0.16082616,\n",
       "       0.16782452, 0.16688574, 0.172382  , 0.17306478, 0.17818555,\n",
       "       0.18240165, 0.17256976, 0.17251856, 0.18190663, 0.19395751,\n",
       "       0.19682513, 0.19619358, 0.19638131, 0.20011948, 0.20133143,\n",
       "       0.20484768, 0.20443799, 0.20872238, 0.20559873, 0.21092432,\n",
       "       0.21321159, 0.21182899, 0.20653752, 0.20452336, 0.20413075,\n",
       "       0.21196552, 0.20841514, 0.21447469, 0.21346762, 0.20819323,\n",
       "       0.20015365, 0.20406246, 0.21061703, 0.21937355, 0.21290435,\n",
       "       0.21556715, 0.21947596, 0.22065374, 0.22695229, 0.23499187,\n",
       "       0.23593071, 0.23478705, 0.23526499, 0.23427499, 0.24205855,\n",
       "       0.2425194 , 0.25214647, 0.25195868, 0.25489459, 0.25853034,\n",
       "       0.26996673, 0.2649825 , 0.26902789, 0.26662118, 0.27481438,\n",
       "       0.28580696, 0.28700178, 0.29831868, 0.29101305, 0.28872578,\n",
       "       0.29538277, 0.30133996, 0.297653  , 0.29958183, 0.30219342,\n",
       "       0.30062303, 0.28464627, 0.29956475, 0.31091577, 0.31011351,\n",
       "       0.28560214, 0.28415125, 0.30154478, 0.30598279, 0.31240078,\n",
       "       0.30355894, 0.30615344, 0.30284201, 0.31579759, 0.31182043,\n",
       "       0.31195702, 0.30180081, 0.30968678, 0.30401979, 0.29164461,\n",
       "       0.26626269, 0.24902277, 0.25682342, 0.22417   , 0.22389688,\n",
       "       0.26733806, 0.25113939, 0.27404625, 0.25728432, 0.25064437,\n",
       "       0.21162416, 0.24434582, 0.22743022, 0.18100196, 0.23176582,\n",
       "       0.17072631, 0.18890501, 0.17833917, 0.17511308, 0.14858753,\n",
       "       0.14027481, 0.17869763, 0.17637622, 0.19842964, 0.18016558,\n",
       "       0.19223351, 0.1913459 , 0.16850731, 0.17536911, 0.16936077,\n",
       "       0.20530853, 0.20011948, 0.21145346, 0.21473072, 0.22370915,\n",
       "       0.24726464, 0.24279252, 0.24665018, 0.24001023, 0.2299906 ,\n",
       "       0.21537936, 0.22857388, 0.22674746, 0.24030043, 0.24064183,\n",
       "       0.23280702, 0.24842539, 0.25878636, 0.25071266, 0.25769396,\n",
       "       0.26520441, 0.27044467, 0.27575317, 0.28666042, 0.29499021,\n",
       "       0.28884528, 0.28242724, 0.28565335, 0.28252965, 0.29490483,\n",
       "       0.29179827, 0.30219342, 0.29813094, 0.30161307, 0.29792612,\n",
       "       0.30028163, 0.30052062, 0.29999148, 0.30666555, 0.30920884,\n",
       "       0.31224716, 0.3074678 , 0.32313733, 0.32648288, 0.34445677,\n",
       "       0.35956303, 0.33064778, 0.33559784, 0.34274984, 0.35826576,\n",
       "       0.35742938, 0.35766837, 0.35423745, 0.36985577, 0.38293079,\n",
       "       0.37188701, 0.38004609, 0.36091152, 0.37482292, 0.3799778 ,\n",
       "       0.37880002, 0.37880002, 0.39542547, 0.39344544, 0.4082615 ,\n",
       "       0.41106088, 0.41220449, 0.40918326, 0.41997101, 0.42452847,\n",
       "       0.41631818, 0.41498678, 0.42884698, 0.4195784 , 0.42143894,\n",
       "       0.39120937, 0.38963898, 0.40462575, 0.39399167, 0.40619614,\n",
       "       0.41404799, 0.4828028 , 0.50108391, 0.50605106, 0.50876506,\n",
       "       0.53498335, 0.51593415, 0.52696085, 0.50407102, 0.52888968,\n",
       "       0.54254505, 0.54184521, 0.53979688, 0.54631734, 0.54730733,\n",
       "       0.56483745, 0.6064522 , 0.61660836, 0.60955876, 0.62114877,\n",
       "       0.61082192, 0.60943932, 0.63833743, 0.67343174, 0.65445078,\n",
       "       0.58262354, 0.58316977, 0.5275924 , 0.55831699, 0.53216694,\n",
       "       0.5219937 , 0.54493473, 0.54616372, 0.52288128, 0.51065972,\n",
       "       0.48676281, 0.50888456, 0.52069642, 0.48867461, 0.49618506,\n",
       "       0.52390545, 0.54220365, 0.53626354, 0.54800717, 0.55469833,\n",
       "       0.52895792, 0.55271829, 0.52991384, 0.54302299, 0.54227194,\n",
       "       0.55592731, 0.60665703, 0.58412564, 0.58474016, 0.58146285,\n",
       "       0.56992404, 0.54916792, 0.55961427, 0.55524455, 0.54759753,\n",
       "       0.54274988, 0.54281817, 0.55340105, 0.51653153, 0.54466162,\n",
       "       0.50055477, 0.49994025, 0.51134253, 0.54213536, 0.56999233,\n",
       "       0.56767094, 0.55148931, 0.54909963, 0.57313306, 0.57122132,\n",
       "       0.57156272, 0.57866352, 0.5724503 , 0.56316464, 0.56732954,\n",
       "       0.55845352, 0.53462491, 0.54363746, 0.54950927, 0.55333276,\n",
       "       0.57012891, 0.59518651, 0.59764448, 0.59668861, 0.59197749,\n",
       "       0.60221902, 0.60652044, 0.58876847, 0.59873688, 0.59306994,\n",
       "       0.58876847, 0.63041735, 0.62993941, 0.63601605, 0.62208761,\n",
       "       0.63280703, 0.65772814, 0.65144668, 0.65834261, 0.6905693 ,\n",
       "       0.67814286, 0.67029106, 0.66325855, 0.64086375, 0.65178799,\n",
       "       0.62167792, 0.65117352, 0.65888884, 0.63792779, 0.63669886,\n",
       "       0.6509687 , 0.63744991, 0.62536487, 0.63007599, 0.65875226,\n",
       "       0.69179823, 0.70681923, 0.73310576, 0.73474444, 0.72723394,\n",
       "       0.69330033, 0.65827437, 0.67315868, 0.67896225, 0.67179316,\n",
       "       0.69534866, 0.69104718, 0.6920714 , 0.68592642, 0.68169329,\n",
       "       0.67991813, 0.6815567 , 0.6666724 , 0.65062729, 0.64291208,\n",
       "       0.64400443, 0.61758131, 0.61662544, 0.61314331, 0.58337459,\n",
       "       0.58521809, 0.62980288, 0.61157297, 0.59068021, 0.57750277,\n",
       "       0.5863105 , 0.55176242, 0.58405735, 0.57647866, 0.58999745,\n",
       "       0.5836477 , 0.60385765, 0.61464541, 0.609115  , 0.58023386,\n",
       "       0.5765469 , 0.59976105, 0.59395752, 0.57722966, 0.5806435 ,\n",
       "       0.58487669, 0.58610567, 0.57593244, 0.59129473, 0.59709825,\n",
       "       0.61689856, 0.61901512, 0.63055393, 0.64735003, 0.66537512,\n",
       "       0.65335843, 0.67513866, 0.65875226, 0.67561665, 0.67329526,\n",
       "       0.67793804, 0.66612617, 0.66878896, 0.65813779, 0.67438772,\n",
       "       0.67711875, 0.6748656 , 0.66933519, 0.66865238, 0.65486053,\n",
       "       0.66223434, 0.63021252, 0.6319195 , 0.6431169 , 0.64632592,\n",
       "       0.62338484, 0.61696685, 0.59552786, 0.6105488 , 0.62748144,\n",
       "       0.61942477, 0.60972946, 0.60863706, 0.62652557, 0.61368953,\n",
       "       0.62509176, 0.62372624, 0.62338484, 0.61266537, 0.60809083,\n",
       "       0.60583768, 0.61116327, 0.60078521, 0.61683026, 0.61689856,\n",
       "       0.62263379, 0.62529658, 0.61833236, 0.62679868, 0.64816932,\n",
       "       0.64243409, 0.64591617, 0.65711357, 0.64803284, 0.66059576,\n",
       "       0.67206622, 0.67015448, 0.6681745 , 0.66612617, 0.67752839,\n",
       "       0.68811133, 0.6924128 , 0.69452937, 0.71289586, 0.72696088,\n",
       "       0.7443715 , 0.73529067, 0.74805841, 0.74389351, 0.75167707,\n",
       "       0.77564222, 0.77106768, 0.75679784, 0.72989674, 0.75515916,\n",
       "       0.75003839, 0.75959721, 0.77161391, 0.77454987, 0.75939239,\n",
       "       0.74717078, 0.75167707, 0.75317917, 0.75085778, 0.7634207 ,\n",
       "       0.76062133, 0.76137238, 0.75509092, 0.75474951, 0.75140401,\n",
       "       0.75317917, 0.77386705, 0.77530091, 0.78909277, 0.78274307,\n",
       "       0.75659302, 0.7589144 , 0.76908769, 0.77946581, 0.77885124,\n",
       "       0.77024839, 0.76464964, 0.77188707, 0.80274814, 0.79394047,\n",
       "       0.79858325, 0.80636681, 0.81080486, 0.82712303, 0.81633527,\n",
       "       0.80923453, 0.77441328, 0.77837335, 0.76860971, 0.77482293,\n",
       "       0.77318424, 0.75454469, 0.73324234, 0.73658784, 0.75311093,\n",
       "       0.75980204, 0.7604165 , 0.74983357, 0.72620983, 0.73249129,\n",
       "       0.72341046, 0.73126225, 0.70729711, 0.72074766, 0.7268243 ,\n",
       "       0.73563197, 0.73296917, 0.73235471, 0.72347869, 0.71938215,\n",
       "       0.73884099, 0.7462149 , 0.75789029, 0.77297942, 0.77639327,\n",
       "       0.77789536, 0.77250154, 0.77216013, 0.77680301, 0.77359399,\n",
       "       0.798993  , 0.78008027, 0.77434504, 0.78158237, 0.79161908,\n",
       "       0.78800042, 0.79018522, 0.78444999, 0.7869762 , 0.76724419,\n",
       "       0.76690279, 0.78137755, 0.78144579, 0.78827348, 0.80527445,\n",
       "       0.83517965, 0.8534779 , 0.85668693, 0.85934972, 0.86296839,\n",
       "       0.82794232, 0.85136134, 0.88590942, 0.88229075, 0.87539472,\n",
       "       0.86228557, 0.886046  , 0.92605614, 0.95268418, 0.94913376,\n",
       "       0.98252114, 0.95719048, 0.94756342, 0.98149703, 0.93343006,\n",
       "       0.92578308, 0.9162926 , 0.93841434, 0.95650767, 0.96087739,\n",
       "       0.98852954, 0.98142868, 0.98204326, 0.97398653, 0.96968516,\n",
       "       1.        , 0.98422806, 0.95159173, 0.9316549 , 0.93281559,\n",
       "       0.93295217, 0.95268418, 0.95575662, 0.93295217, 0.93896057,\n",
       "       0.91663401, 0.89225911, 0.88051549, 0.86617741, 0.86078348,\n",
       "       0.84822056, 0.84760609, 0.84439707, 0.92025267, 0.95063586,\n",
       "       0.94947516, 0.95787319, 0.93779977, 0.93431769, 0.92933351,\n",
       "       0.95097726, 0.96087739, 0.93247418, 0.90871386, 0.91035255,\n",
       "       0.93704872, 0.93541014, 0.91035255, 0.89956479, 0.87921831,\n",
       "       0.85020064, 0.86843056, 0.88283698, 0.88468038, 0.87157123,\n",
       "       0.89451226, 0.89225911, 0.87136641, 0.8449433 , 0.8322438 ,\n",
       "       0.86986431, 0.83961771, 0.81374072, 0.78567892, 0.81619869,\n",
       "       0.84692328, 0.85395579, 0.87689682, 0.88645564, 0.9099429 ,\n",
       "       0.91943338, 0.94578826, 0.95022621, 0.95623461, 0.97917564,\n",
       "       0.97105068, 0.94947516, 0.94742683, 0.97562521, 0.9525476 ,\n",
       "       0.9304942 , 0.93261077, 0.91861399, 0.88898185, 0.90202276,\n",
       "       0.92073055, 0.88584107, 0.88433908, 0.9002475 , 0.8990868 ,\n",
       "       0.89355639, 0.86194417, 0.86938643, 0.82787408, 0.82630374,\n",
       "       0.87457543, 0.83367755, 0.83579422, 0.84617223, 0.89082536,\n",
       "       0.82766926, 0.83115134, 0.79551081, 0.81223862, 0.75754889,\n",
       "       0.73064779, 0.76171378, 0.75099426, 0.77625679, 0.71876768,\n",
       "       0.6950756 , 0.69671418, 0.73440303, 0.7156269 , 0.71671935,\n",
       "       0.73897757, 0.77898782, 0.77352565, 0.77263812, 0.78970734,\n",
       "       0.74990191, 0.75509092, 0.77263812, 0.76751736, 0.73119401,\n",
       "       0.6935735 , 0.65772814, 0.66373644, 0.68196635, 0.6453017 ,\n",
       "       0.65554323, 0.68497055, 0.68142022, 0.70135706, 0.72450291,\n",
       "       0.72450291, 0.69569006, 0.70791158, 0.69077412])"
      ]
     },
     "execution_count": 35,
     "metadata": {},
     "output_type": "execute_result"
    }
   ],
   "source": [
    "Y_test"
   ]
  },
  {
   "cell_type": "code",
   "execution_count": 34,
   "metadata": {},
   "outputs": [
    {
     "data": {
      "image/png": "[encoded data removed]",
      "text/plain": [
       "<Figure size 864x432 with 1 Axes>"
      ]
     },
     "metadata": {
      "needs_background": "light"
     },
     "output_type": "display_data"
    }
   ],
   "source": [
    "plt.figure(figsize=(12,6))\n",
    "plt.plot(Y_test, 'b', label = 'Original Price')\n",
    "plt.plot(Y_pred, 'r', label = 'Predicted Price')\n",
    "plt.xlabel('Time')\n",
    "plt.ylabel('Price')\n",
    "plt.legend()\n",
    "plt.show()"
   ]
  },
  {
   "cell_type": "code",
   "execution_count": null,
   "metadata": {},
   "outputs": [],
   "source": []
  }
 ],
 "metadata": {
  "kernelspec": {
   "display_name": "Python 3.10.4 64-bit",
   "language": "python",
   "name": "python3"
  },
  "language_info": {
   "codemirror_mode": {
    "name": "ipython",
    "version": 3
   },
   "file_extension": ".py",
   "mimetype": "text/x-python",
   "name": "python",
   "nbconvert_exporter": "python",
   "pygments_lexer": "ipython3",
   "version": "3.10.4"
  },
  "orig_nbformat": 4,
  "vscode": {
   "interpreter": {
    "hash": "7a00c8bfb4f5a5586f3c944c35fc6c63dd1841654f1291cc687786b27bd37999"
   }
  }
 },
 "nbformat": 4,
 "nbformat_minor": 2
}
